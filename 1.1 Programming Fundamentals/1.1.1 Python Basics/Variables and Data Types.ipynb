{
 "cells": [
  {
   "cell_type": "markdown",
   "id": "f4ff9953",
   "metadata": {},
   "source": [
    "# Python Fundamentals: Variables and Data Types\n",
    "\n",
    "## Part 1: Your First Variables\n",
    "\n"
   ]
  },
  {
   "cell_type": "code",
   "execution_count": null,
   "id": "15619d50",
   "metadata": {},
   "outputs": [],
   "source": [
    "# Creating your first variables\n",
    "name = \"Alice\"\n",
    "age = 25\n",
    "height = 5.6\n",
    "is_student = True\n",
    "\n",
    "print(f\"Name: {name}\")\n",
    "print(f\"Age: {age}\")\n",
    "print(f\"Height: {height} feet\")\n",
    "print(f\"Is student: {is_student}\")\n"
   ]
  },
  {
   "cell_type": "markdown",
   "id": "cef67856",
   "metadata": {},
   "source": [
    "\n",
    "**What happened**: We created four different variables to store different types of information. Python automatically figured out what type each variable should be.\n",
    "\n",
    "## Part 2: Understanding Data Types\n",
    "\n",
    "#### Basic Data Types\n",
    "\n"
   ]
  },
  {
   "cell_type": "code",
   "execution_count": null,
   "id": "5b40acd1",
   "metadata": {},
   "outputs": [],
   "source": [
    "# The four fundamental data types\n",
    "number = 42          # Integer (whole numbers)\n",
    "price = 19.99        # Float (decimal numbers)\n",
    "message = \"Hello!\"   # String (text)\n",
    "ready = False        # Boolean (True or False)\n",
    "\n",
    "# Check what type each variable is\n",
    "print(f\"number is type: {type(number)}\")\n",
    "print(f\"price is type: {type(price)}\")\n",
    "print(f\"message is type: {type(message)}\")\n",
    "print(f\"ready is type: {type(ready)}\")\n"
   ]
  },
  {
   "cell_type": "markdown",
   "id": "4596b9c6",
   "metadata": {},
   "source": [
    "\n",
    "#### OPTIONAL: Understanding the type() Function\n",
    "\n"
   ]
  },
  {
   "cell_type": "code",
   "execution_count": null,
   "id": "e8db9742",
   "metadata": {},
   "outputs": [],
   "source": [
    "# Let's explore type() in more detail\n",
    "print(\"Exploring type() function:\")\n",
    "print(f\"type(42) = {type(42)}\")           # <class 'int'>\n",
    "print(f\"type(3.14) = {type(3.14)}\")       # <class 'float'>\n",
    "print(f\"type('hello') = {type('hello')}\")  # <class 'str'>\n",
    "print(f\"type(True) = {type(True)}\")       # <class 'bool'>\n",
    "\n",
    "# Type names without the <class '...'> wrapper\n",
    "print(f\"\\nJust the type names:\")\n",
    "print(f\"type(42).__name__ = {type(42).__name__}\")\n",
    "print(f\"type(3.14).__name__ = {type(3.14).__name__}\")\n"
   ]
  },
  {
   "cell_type": "markdown",
   "id": "22ee82f3",
   "metadata": {},
   "source": [
    "\n",
    "#### Working with Integers\n",
    "\n"
   ]
  },
  {
   "cell_type": "code",
   "execution_count": null,
   "id": "2dba2bc3",
   "metadata": {},
   "outputs": [],
   "source": [
    "# Integers - whole numbers\n",
    "students_count = 30\n",
    "temperature = -5\n",
    "big_number = 1000000\n",
    "\n",
    "print(f\"Students: {students_count}\")\n",
    "print(f\"Temperature: {temperature}°C\")\n",
    "print(f\"Big number: {big_number}\")\n",
    "\n",
    "# Basic math with integers\n",
    "result = students_count + 5\n",
    "print(f\"After adding 5 more students: {result}\")\n"
   ]
  },
  {
   "cell_type": "markdown",
   "id": "8e974cc9",
   "metadata": {},
   "source": [
    "\n",
    "#### OPTIONAL: Integer Operations and Limits\n",
    "\n"
   ]
  },
  {
   "cell_type": "code",
   "execution_count": null,
   "id": "5b88ab5f",
   "metadata": {},
   "outputs": [],
   "source": [
    "# Python integers can be very large (unlike some other languages)\n",
    "huge_number = 10 ** 100  # 10 to the power of 100\n",
    "print(f\"Huge number: {huge_number}\")\n",
    "print(f\"Length of huge number: {len(str(huge_number))} digits\")\n",
    "\n",
    "# Common integer operations\n",
    "a = 17\n",
    "b = 5\n",
    "print(f\"\\nInteger operations with {a} and {b}:\")\n",
    "print(f\"Addition: {a} + {b} = {a + b}\")\n",
    "print(f\"Subtraction: {a} - {b} = {a - b}\")\n",
    "print(f\"Multiplication: {a} * {b} = {a * b}\")\n",
    "print(f\"Division: {a} / {b} = {a / b}\")        # Always returns float\n",
    "print(f\"Floor division: {a} // {b} = {a // b}\")  # Integer division\n",
    "print(f\"Remainder: {a} % {b} = {a % b}\")       # Modulo operation\n",
    "print(f\"Power: {a} ** {b} = {a ** b}\")         # Exponentiation\n"
   ]
  },
  {
   "cell_type": "markdown",
   "id": "bbffe9d7",
   "metadata": {},
   "source": [
    "\n",
    "#### Working with Floats\n",
    "\n"
   ]
  },
  {
   "cell_type": "code",
   "execution_count": null,
   "id": "ee22e6e3",
   "metadata": {},
   "outputs": [],
   "source": [
    "# Floats - decimal numbers\n",
    "weight = 68.5\n",
    "pi = 3.14159\n",
    "bank_balance = 1250.75\n",
    "\n",
    "print(f\"Weight: {weight} kg\")\n",
    "print(f\"Pi: {pi}\")\n",
    "print(f\"Bank balance: ${bank_balance}\")\n",
    "\n",
    "# Floats from integer division\n",
    "result = 10 / 3\n",
    "print(f\"10 divided by 3: {result}\")\n"
   ]
  },
  {
   "cell_type": "markdown",
   "id": "b62b6ead",
   "metadata": {},
   "source": [
    "\n",
    "#### OPTIONAL: Float Precision and Formatting\n",
    "\n"
   ]
  },
  {
   "cell_type": "code",
   "execution_count": null,
   "id": "ba3c6e8b",
   "metadata": {},
   "outputs": [],
   "source": [
    "# Floats have limited precision\n",
    "print(\"Float precision examples:\")\n",
    "result = 0.1 + 0.2\n",
    "print(f\"0.1 + 0.2 = {result}\")  # Might not be exactly 0.3!\n",
    "print(f\"Is 0.1 + 0.2 == 0.3? {result == 0.3}\")\n",
    "\n",
    "# Formatting floats for display\n",
    "value = 3.14159265359\n",
    "print(f\"\\nFormatting {value}:\")\n",
    "print(f\"2 decimal places: {value:.2f}\")\n",
    "print(f\"4 decimal places: {value:.4f}\")\n",
    "print(f\"Scientific notation: {value:.2e}\")\n",
    "\n",
    "# Rounding\n",
    "print(f\"\\nRounding examples:\")\n",
    "print(f\"round(3.7) = {round(3.7)}\")\n",
    "print(f\"round(3.14159, 2) = {round(3.14159, 2)}\")\n"
   ]
  },
  {
   "cell_type": "markdown",
   "id": "7469f8d3",
   "metadata": {},
   "source": [
    "\n",
    "#### Working with Strings\n",
    "\n"
   ]
  },
  {
   "cell_type": "code",
   "execution_count": null,
   "id": "80fec610",
   "metadata": {},
   "outputs": [],
   "source": [
    "# Strings - text data\n",
    "first_name = \"John\"\n",
    "last_name = \"Doe\"\n",
    "full_name = first_name + \" \" + last_name  # String concatenation\n",
    "\n",
    "print(f\"First name: {first_name}\")\n",
    "print(f\"Last name: {last_name}\")\n",
    "print(f\"Full name: {full_name}\")\n",
    "\n",
    "# Different ways to create strings\n",
    "single_quotes = 'Hello'\n",
    "double_quotes = \"Hello\"\n",
    "triple_quotes = \"\"\"Hello\"\"\"\n",
    "\n",
    "print(f\"All these are strings: {single_quotes}, {double_quotes}, {triple_quotes}\")\n"
   ]
  },
  {
   "cell_type": "markdown",
   "id": "3f7aabec",
   "metadata": {},
   "source": [
    "\n",
    "#### OPTIONAL: String Quotes and Escaping\n",
    "\n"
   ]
  },
  {
   "cell_type": "code",
   "execution_count": null,
   "id": "430cf066",
   "metadata": {},
   "outputs": [],
   "source": [
    "# When to use different quote types\n",
    "sentence1 = \"She said 'Hello there!'\"  # Double quotes to contain single quotes\n",
    "sentence2 = 'He replied \"How are you?\"'  # Single quotes to contain double quotes\n",
    "print(sentence1)\n",
    "print(sentence2)\n",
    "\n",
    "# Escape characters\n",
    "escaped = \"She said \\\"Hello\\\" and he said 'Hi'\"  # Escaping quotes with backslash\n",
    "newline = \"First line\\nSecond line\"              # \\n for new line\n",
    "tab = \"Name:\\tJohn\"                              # \\t for tab\n",
    "print(escaped)\n",
    "print(newline)\n",
    "print(tab)\n",
    "\n",
    "# Raw strings (no escaping)\n",
    "file_path = r\"C:\\Users\\John\\Documents\"  # r prefix means raw string\n",
    "print(f\"File path: {file_path}\")\n"
   ]
  },
  {
   "cell_type": "markdown",
   "id": "428a6d0b",
   "metadata": {},
   "source": [
    "\n",
    "#### OPTIONAL: String Methods and Operations\n",
    "\n"
   ]
  },
  {
   "cell_type": "code",
   "execution_count": null,
   "id": "40274d87",
   "metadata": {},
   "outputs": [],
   "source": [
    "text = \"Python Programming\"\n",
    "\n",
    "print(f\"Original: '{text}'\")\n",
    "print(f\"Length: {len(text)} characters\")\n",
    "print(f\"Uppercase: '{text.upper()}'\")\n",
    "print(f\"Lowercase: '{text.lower()}'\")\n",
    "print(f\"Title case: '{text.title()}'\")\n",
    "\n",
    "# String checking methods\n",
    "print(f\"\\nString checks:\")\n",
    "print(f\"Starts with 'Python': {text.startswith('Python')}\")\n",
    "print(f\"Ends with 'ing': {text.endswith('ing')}\")\n",
    "print(f\"Contains 'gram': {'gram' in text}\")\n",
    "\n",
    "# String manipulation\n",
    "print(f\"\\nString manipulation:\")\n",
    "print(f\"Replace 'Python' with 'Java': '{text.replace('Python', 'Java')}'\")\n",
    "print(f\"Split into words: {text.split()}\")\n",
    "print(f\"Split on 'o': {text.split('o')}\")\n"
   ]
  },
  {
   "cell_type": "markdown",
   "id": "51f5cda5",
   "metadata": {},
   "source": [
    "\n",
    "#### Working with Booleans\n",
    "\n"
   ]
  },
  {
   "cell_type": "code",
   "execution_count": null,
   "id": "b720bd86",
   "metadata": {},
   "outputs": [],
   "source": [
    "# Booleans - True or False\n",
    "is_sunny = True\n",
    "is_raining = False\n",
    "has_umbrella = True\n",
    "\n",
    "print(f\"Is sunny: {is_sunny}\")\n",
    "print(f\"Is raining: {is_raining}\")\n",
    "print(f\"Has umbrella: {has_umbrella}\")\n",
    "\n",
    "# Boolean logic\n",
    "should_go_outside = is_sunny and not is_raining\n",
    "need_umbrella = is_raining and not has_umbrella\n",
    "\n",
    "print(f\"Should go outside: {should_go_outside}\")\n",
    "print(f\"Need umbrella: {need_umbrella}\")\n"
   ]
  },
  {
   "cell_type": "markdown",
   "id": "120ff662",
   "metadata": {},
   "source": [
    "\n",
    "#### OPTIONAL: Boolean Operations and Truthiness\n",
    "\n"
   ]
  },
  {
   "cell_type": "code",
   "execution_count": null,
   "id": "2e06010a",
   "metadata": {},
   "outputs": [],
   "source": [
    "# Boolean operators\n",
    "a = True\n",
    "b = False\n",
    "\n",
    "print(\"Boolean operations:\")\n",
    "print(f\"a = {a}, b = {b}\")\n",
    "print(f\"a and b = {a and b}\")  # Both must be True\n",
    "print(f\"a or b = {a or b}\")    # At least one must be True\n",
    "print(f\"not a = {not a}\")      # Opposite of a\n",
    "print(f\"not b = {not b}\")      # Opposite of b\n",
    "\n",
    "# Comparison operators create booleans\n",
    "x = 10\n",
    "y = 5\n",
    "print(f\"\\nComparison operations:\")\n",
    "print(f\"{x} > {y} = {x > y}\")\n",
    "print(f\"{x} < {y} = {x < y}\")\n",
    "print(f\"{x} == {y} = {x == y}\")  # Equal to\n",
    "print(f\"{x} != {y} = {x != y}\")  # Not equal to\n"
   ]
  },
  {
   "cell_type": "markdown",
   "id": "75dbdc07",
   "metadata": {},
   "source": [
    "\n",
    "#### OPTIONAL: Truthiness in Python\n",
    "\n"
   ]
  },
  {
   "cell_type": "code",
   "execution_count": null,
   "id": "97fd2793",
   "metadata": {},
   "outputs": [],
   "source": [
    "# In Python, many values can be treated as True or False\n",
    "print(\"Truthiness examples:\")\n",
    "\n",
    "# Falsy values (evaluate to False)\n",
    "falsy_values = [False, 0, 0.0, \"\", [], {}, None]\n",
    "for value in falsy_values:\n",
    "    print(f\"bool({repr(value)}) = {bool(value)}\")\n",
    "\n",
    "print()\n",
    "\n",
    "# Truthy values (evaluate to True)\n",
    "truthy_values = [True, 1, -1, \"hello\", [1, 2], {\"a\": 1}]\n",
    "for value in truthy_values:\n",
    "    print(f\"bool({repr(value)}) = {bool(value)}\")\n"
   ]
  },
  {
   "cell_type": "markdown",
   "id": "f78e1d75",
   "metadata": {},
   "source": [
    "\n",
    "## Part 3: Type Conversion\n",
    "\n",
    "#### Converting Between Types\n",
    "\n"
   ]
  },
  {
   "cell_type": "code",
   "execution_count": null,
   "id": "e690b56b",
   "metadata": {},
   "outputs": [],
   "source": [
    "# Starting with different types\n",
    "number_as_string = \"42\"\n",
    "decimal_as_string = \"3.14\"\n",
    "age = 25\n",
    "price = 19.99\n",
    "\n",
    "print(\"Original values and types:\")\n",
    "print(f\"'{number_as_string}' is {type(number_as_string).__name__}\")\n",
    "print(f\"'{decimal_as_string}' is {type(decimal_as_string).__name__}\")\n",
    "print(f\"{age} is {type(age).__name__}\")\n",
    "print(f\"{price} is {type(price).__name__}\")\n",
    "\n",
    "# Convert strings to numbers\n",
    "converted_int = int(number_as_string)      # String to integer\n",
    "converted_float = float(decimal_as_string)  # String to float\n",
    "age_as_string = str(age)                   # Integer to string\n",
    "price_as_int = int(price)                  # Float to integer (loses decimal)\n",
    "\n",
    "print(\"\\nAfter conversion:\")\n",
    "print(f\"{converted_int} is {type(converted_int).__name__}\")\n",
    "print(f\"{converted_float} is {type(converted_float).__name__}\")\n",
    "print(f\"'{age_as_string}' is {type(age_as_string).__name__}\")\n",
    "print(f\"{price_as_int} is {type(price_as_int).__name__}\")\n"
   ]
  },
  {
   "cell_type": "markdown",
   "id": "82008ce5",
   "metadata": {},
   "source": [
    "\n",
    "#### OPTIONAL: Safe Type Conversion\n",
    "\n"
   ]
  },
  {
   "cell_type": "code",
   "execution_count": null,
   "id": "103144c8",
   "metadata": {},
   "outputs": [],
   "source": [
    "# Sometimes conversion can fail\n",
    "test_values = [\"123\", \"12.34\", \"hello\", \"\"]\n",
    "\n",
    "print(\"Testing conversions:\")\n",
    "for value in test_values:\n",
    "    print(f\"\\nTesting: '{value}'\")\n",
    "    \n",
    "    # Try converting to int\n",
    "    try:\n",
    "        result = int(value)\n",
    "        print(f\"  int('{value}') = {result}\")\n",
    "    except ValueError as e:\n",
    "        print(f\"  int('{value}') failed: {e}\")\n",
    "    \n",
    "    # Try converting to float\n",
    "    try:\n",
    "        result = float(value)\n",
    "        print(f\"  float('{value}') = {result}\")\n",
    "    except ValueError as e:\n",
    "        print(f\"  float('{value}') failed: {e}\")\n"
   ]
  },
  {
   "cell_type": "markdown",
   "id": "f28a4c1e",
   "metadata": {},
   "source": [
    "\n",
    "#### OPTIONAL: Checking Before Converting\n",
    "\n"
   ]
  },
  {
   "cell_type": "code",
   "execution_count": null,
   "id": "2d06aa27",
   "metadata": {},
   "outputs": [],
   "source": [
    "# Check if a string can be converted to a number\n",
    "def is_number(text):\n",
    "    \"\"\"Check if a string represents a number\"\"\"\n",
    "    try:\n",
    "        float(text)\n",
    "        return True\n",
    "    except ValueError:\n",
    "        return False\n",
    "\n",
    "def is_integer(text):\n",
    "    \"\"\"Check if a string represents an integer\"\"\"\n",
    "    try:\n",
    "        int(text)\n",
    "        return True\n",
    "    except ValueError:\n",
    "        return False\n",
    "\n",
    "# Test the functions\n",
    "test_strings = [\"123\", \"12.34\", \"hello\", \"-5\", \"0\"]\n",
    "\n",
    "for s in test_strings:\n",
    "    print(f\"'{s}': is_number={is_number(s)}, is_integer={is_integer(s)}\")\n"
   ]
  },
  {
   "cell_type": "markdown",
   "id": "0ed32fb9",
   "metadata": {},
   "source": [
    "\n",
    "## Part 4: Variables and Memory\n",
    "\n",
    "#### Variable Assignment and References\n",
    "\n"
   ]
  },
  {
   "cell_type": "code",
   "execution_count": null,
   "id": "f0647750",
   "metadata": {},
   "outputs": [],
   "source": [
    "# Creating variables\n",
    "original = 42\n",
    "copy = original  # This creates a new reference to the same value\n",
    "\n",
    "print(f\"original = {original}\")\n",
    "print(f\"copy = {copy}\")\n",
    "\n",
    "# For numbers, strings, and booleans, changing one doesn't affect the other\n",
    "original = 100\n",
    "print(f\"After changing original:\")\n",
    "print(f\"original = {original}\")\n",
    "print(f\"copy = {copy}\")  # copy is unchanged\n"
   ]
  },
  {
   "cell_type": "markdown",
   "id": "8620ab9e",
   "metadata": {},
   "source": [
    "\n",
    "#### OPTIONAL: Understanding Variable Assignment\n",
    "\n"
   ]
  },
  {
   "cell_type": "code",
   "execution_count": null,
   "id": "ddc98b60",
   "metadata": {},
   "outputs": [],
   "source": [
    "# Variables are like labels pointing to objects in memory\n",
    "print(\"Understanding variable assignment:\")\n",
    "\n",
    "# Multiple variables can point to the same object\n",
    "a = 1000\n",
    "b = 1000\n",
    "print(f\"a = {a}, b = {b}\")\n",
    "print(f\"a is b: {a is b}\")  # This might be False for large numbers\n",
    "print(f\"id(a): {id(a)}\")    # Memory address of a\n",
    "print(f\"id(b): {id(b)}\")    # Memory address of b\n",
    "\n",
    "# Small integers are cached by Python\n",
    "x = 5\n",
    "y = 5\n",
    "print(f\"\\nSmall integers:\")\n",
    "print(f\"x = {x}, y = {y}\")\n",
    "print(f\"x is y: {x is y}\")  # This will be True\n",
    "print(f\"id(x): {id(x)}\")\n",
    "print(f\"id(y): {id(y)}\")\n"
   ]
  },
  {
   "cell_type": "markdown",
   "id": "5caef38c",
   "metadata": {},
   "source": [
    "\n",
    "#### Variable Naming Rules\n",
    "\n"
   ]
  },
  {
   "cell_type": "code",
   "execution_count": null,
   "id": "f4d3d8fe",
   "metadata": {},
   "outputs": [],
   "source": [
    "# Valid variable names\n",
    "student_count = 30      # Snake case (recommended)\n",
    "studentCount = 30       # Camel case (less common in Python)\n",
    "student2 = 25          # Numbers at the end are OK\n",
    "_private = \"secret\"     # Starting with underscore (has special meaning)\n",
    "\n",
    "print(f\"All these variables work: {student_count}, {studentCount}, {student2}\")\n",
    "\n",
    "# Python naming conventions\n",
    "first_name = \"John\"     # Use snake_case for variables\n",
    "CONSTANT_VALUE = 100    # Use UPPER_CASE for constants\n",
    "ClassName = \"Example\"   # Use CamelCase for classes (we'll learn about these later)\n"
   ]
  },
  {
   "cell_type": "markdown",
   "id": "edbd6410",
   "metadata": {},
   "source": [
    "\n",
    "#### OPTIONAL: Variable Naming Rules and Conventions\n",
    "\n"
   ]
  },
  {
   "cell_type": "code",
   "execution_count": null,
   "id": "fc4bfb26",
   "metadata": {},
   "outputs": [],
   "source": [
    "# These would cause errors (don't run these lines):\n",
    "# 2students = 30        # Can't start with number\n",
    "# class = \"Math\"        # Can't use Python keywords\n",
    "# first-name = \"John\"   # Can't use hyphens\n",
    "\n",
    "# Check if a name is a valid identifier\n",
    "import keyword\n",
    "\n",
    "test_names = [\"student_count\", \"2students\", \"class\", \"first-name\", \"hello_world\"]\n",
    "\n",
    "for name in test_names:\n",
    "    is_valid = name.isidentifier() and not keyword.iskeyword(name)\n",
    "    issues = []\n",
    "    \n",
    "    if not name.isidentifier():\n",
    "        issues.append(\"invalid identifier\")\n",
    "    if keyword.iskeyword(name):\n",
    "        issues.append(\"Python keyword\")\n",
    "    \n",
    "    status = \"✓ Valid\" if is_valid else f\"✗ Invalid ({', '.join(issues)})\"\n",
    "    print(f\"'{name}': {status}\")\n",
    "\n",
    "# See all Python keywords\n",
    "print(f\"\\nPython keywords: {keyword.kwlist}\")\n"
   ]
  },
  {
   "cell_type": "markdown",
   "id": "6026ad89",
   "metadata": {},
   "source": [
    "\n",
    "## Part 5: Working with Collections\n",
    "\n",
    "#### Lists - Ordered Collections\n",
    "\n"
   ]
  },
  {
   "cell_type": "code",
   "execution_count": null,
   "id": "8199ce8e",
   "metadata": {},
   "outputs": [],
   "source": [
    "# Creating lists\n",
    "fruits = [\"apple\", \"banana\", \"cherry\"]\n",
    "numbers = [1, 2, 3, 4, 5]\n",
    "mixed = [\"hello\", 42, 3.14, True]  # Lists can hold different types\n",
    "\n",
    "print(f\"Fruits: {fruits}\")\n",
    "print(f\"Numbers: {numbers}\")\n",
    "print(f\"Mixed types: {mixed}\")\n",
    "\n",
    "# Accessing list elements\n",
    "print(f\"First fruit: {fruits[0]}\")      # First element (index 0)\n",
    "print(f\"Last fruit: {fruits[-1]}\")      # Last element (negative indexing)\n",
    "print(f\"Second number: {numbers[1]}\")   # Second element (index 1)\n"
   ]
  },
  {
   "cell_type": "markdown",
   "id": "7b4d1bdf",
   "metadata": {},
   "source": [
    "\n",
    "#### OPTIONAL: List Indexing and Slicing\n",
    "\n"
   ]
  },
  {
   "cell_type": "code",
   "execution_count": null,
   "id": "190aa8f7",
   "metadata": {},
   "outputs": [],
   "source": [
    "# List indexing examples\n",
    "colors = [\"red\", \"green\", \"blue\", \"yellow\", \"purple\"]\n",
    "print(f\"Colors: {colors}\")\n",
    "\n",
    "# Positive indexing (from the start)\n",
    "print(f\"Index 0: {colors[0]}\")\n",
    "print(f\"Index 2: {colors[2]}\")\n",
    "\n",
    "# Negative indexing (from the end)\n",
    "print(f\"Index -1: {colors[-1]}\")  # Last element\n",
    "print(f\"Index -2: {colors[-2]}\")  # Second to last\n",
    "\n",
    "# Slicing (getting multiple elements)\n",
    "print(f\"First 3 colors: {colors[0:3]}\")    # Elements 0, 1, 2\n",
    "print(f\"Colors[1:4]: {colors[1:4]}\")       # Elements 1, 2, 3\n",
    "print(f\"Last 2 colors: {colors[-2:]}\")     # Last 2 elements\n",
    "print(f\"All but first: {colors[1:]}\")      # From index 1 to end\n",
    "print(f\"All but last: {colors[:-1]}\")      # From start to second-to-last\n"
   ]
  },
  {
   "cell_type": "markdown",
   "id": "c4f2d97e",
   "metadata": {},
   "source": [
    "\n",
    "#### OPTIONAL: Modifying Lists\n",
    "\n"
   ]
  },
  {
   "cell_type": "code",
   "execution_count": null,
   "id": "a325d44f",
   "metadata": {},
   "outputs": [],
   "source": [
    "# Lists are mutable (can be changed)\n",
    "shopping = [\"milk\", \"bread\", \"eggs\"]\n",
    "print(f\"Original list: {shopping}\")\n",
    "\n",
    "# Add items\n",
    "shopping.append(\"cheese\")              # Add to end\n",
    "print(f\"After append: {shopping}\")\n",
    "\n",
    "shopping.insert(1, \"butter\")           # Insert at specific position\n",
    "print(f\"After insert: {shopping}\")\n",
    "\n",
    "# Remove items\n",
    "shopping.remove(\"bread\")               # Remove first occurrence\n",
    "print(f\"After remove: {shopping}\")\n",
    "\n",
    "last_item = shopping.pop()             # Remove and return last item\n",
    "print(f\"Removed: {last_item}\")\n",
    "print(f\"After pop: {shopping}\")\n",
    "\n",
    "# Change items\n",
    "shopping[0] = \"almond milk\"            # Change first item\n",
    "print(f\"After change: {shopping}\")\n"
   ]
  },
  {
   "cell_type": "markdown",
   "id": "46625a07",
   "metadata": {},
   "source": [
    "\n",
    "#### Tuples - Immutable Collections\n",
    "\n"
   ]
  },
  {
   "cell_type": "code",
   "execution_count": null,
   "id": "e26e0d28",
   "metadata": {},
   "outputs": [],
   "source": [
    "# Creating tuples\n",
    "coordinates = (10, 20)          # Parentheses optional but recommended\n",
    "rgb_color = (255, 128, 0)       # RGB color values\n",
    "person = (\"Alice\", 25, \"Engineer\")  # Name, age, job\n",
    "\n",
    "print(f\"Coordinates: {coordinates}\")\n",
    "print(f\"RGB color: {rgb_color}\")\n",
    "print(f\"Person info: {person}\")\n",
    "\n",
    "# Accessing tuple elements (same as lists)\n",
    "print(f\"X coordinate: {coordinates[0]}\")\n",
    "print(f\"Person's name: {person[0]}\")\n",
    "print(f\"Person's age: {person[1]}\")\n"
   ]
  },
  {
   "cell_type": "markdown",
   "id": "eee189fb",
   "metadata": {},
   "source": [
    "\n",
    "#### OPTIONAL: Tuples vs Lists\n",
    "\n"
   ]
  },
  {
   "cell_type": "code",
   "execution_count": null,
   "id": "05198e26",
   "metadata": {},
   "outputs": [],
   "source": [
    "# Key differences between tuples and lists\n",
    "my_list = [1, 2, 3]\n",
    "my_tuple = (1, 2, 3)\n",
    "\n",
    "print(\"Lists vs Tuples:\")\n",
    "print(f\"List: {my_list}, type: {type(my_list).__name__}\")\n",
    "print(f\"Tuple: {my_tuple}, type: {type(my_tuple).__name__}\")\n",
    "\n",
    "# Lists are mutable\n",
    "my_list[0] = 99\n",
    "print(f\"Modified list: {my_list}\")\n",
    "\n",
    "# Tuples are immutable (this would cause an error):\n",
    "# my_tuple[0] = 99  # TypeError: 'tuple' object does not support item assignment\n",
    "\n",
    "# When to use tuples:\n",
    "# 1. Data that shouldn't change (coordinates, RGB values)\n",
    "# 2. Multiple return values from functions\n",
    "# 3. Dictionary keys (tuples can be keys, lists cannot)\n",
    "\n",
    "print(\"\\nTuple use cases:\")\n",
    "point = (3, 4)                    # Coordinates that shouldn't change\n",
    "name_age = (\"Bob\", 30)           # Related data that belongs together\n",
    "print(f\"Point: {point}\")\n",
    "print(f\"Name and age: {name_age}\")\n"
   ]
  },
  {
   "cell_type": "markdown",
   "id": "402adf1d",
   "metadata": {},
   "source": [
    "\n",
    "#### Dictionaries - Key-Value Pairs\n",
    "\n"
   ]
  },
  {
   "cell_type": "code",
   "execution_count": null,
   "id": "3ec460fe",
   "metadata": {},
   "outputs": [],
   "source": [
    "# Creating dictionaries\n",
    "student = {\n",
    "    \"name\": \"Alice\",\n",
    "    \"age\": 20,\n",
    "    \"major\": \"Computer Science\",\n",
    "    \"gpa\": 3.8\n",
    "}\n",
    "\n",
    "# Alternative syntax\n",
    "grades = dict(math=95, english=88, science=92)\n",
    "\n",
    "print(f\"Student info: {student}\")\n",
    "print(f\"Grades: {grades}\")\n",
    "\n",
    "# Accessing dictionary values\n",
    "print(f\"Student name: {student['name']}\")\n",
    "print(f\"Math grade: {grades['math']}\")\n",
    "\n",
    "# Adding new key-value pairs\n",
    "student[\"year\"] = \"Junior\"\n",
    "print(f\"Updated student: {student}\")\n"
   ]
  },
  {
   "cell_type": "markdown",
   "id": "e87c4712",
   "metadata": {},
   "source": [
    "\n",
    "#### OPTIONAL: Dictionary Methods and Operations\n",
    "\n"
   ]
  },
  {
   "cell_type": "code",
   "execution_count": null,
   "id": "79672051",
   "metadata": {},
   "outputs": [],
   "source": [
    "# Dictionary methods\n",
    "inventory = {\"apples\": 50, \"bananas\": 30, \"oranges\": 25}\n",
    "\n",
    "print(f\"Inventory: {inventory}\")\n",
    "print(f\"Keys: {list(inventory.keys())}\")        # Get all keys\n",
    "print(f\"Values: {list(inventory.values())}\")    # Get all values\n",
    "print(f\"Items: {list(inventory.items())}\")      # Get key-value pairs\n",
    "\n",
    "# Safe access with get()\n",
    "apple_count = inventory.get(\"apples\", 0)        # Returns 0 if key doesn't exist\n",
    "grape_count = inventory.get(\"grapes\", 0)        # Returns 0 (default)\n",
    "print(f\"Apples: {apple_count}\")\n",
    "print(f\"Grapes: {grape_count}\")\n",
    "\n",
    "# Check if key exists\n",
    "print(f\"Have apples: {'apples' in inventory}\")\n",
    "print(f\"Have grapes: {'grapes' in inventory}\")\n",
    "\n",
    "# Update inventory\n",
    "inventory[\"apples\"] = 45          # Modify existing\n",
    "inventory[\"grapes\"] = 20          # Add new\n",
    "del inventory[\"oranges\"]          # Remove key-value pair\n",
    "print(f\"Updated inventory: {inventory}\")\n"
   ]
  },
  {
   "cell_type": "markdown",
   "id": "b49dd789",
   "metadata": {},
   "source": [
    "\n",
    "## Part 6: Putting It All Together\n",
    "\n",
    "#### A Complete Example\n",
    "\n"
   ]
  },
  {
   "cell_type": "code",
   "execution_count": null,
   "id": "3da7225f",
   "metadata": {},
   "outputs": [],
   "source": [
    "# Create a simple contact book\n",
    "contacts = {\n",
    "    \"alice\": {\n",
    "        \"phone\": \"555-1234\",\n",
    "        \"email\": \"alice@email.com\",\n",
    "        \"age\": 28\n",
    "    },\n",
    "    \"bob\": {\n",
    "        \"phone\": \"555-5678\", \n",
    "        \"email\": \"bob@email.com\",\n",
    "        \"age\": 32\n",
    "    }\n",
    "}\n",
    "\n",
    "# Display contact information\n",
    "print(\"=== Contact Book ===\")\n",
    "for name, info in contacts.items():\n",
    "    print(f\"\\nName: {name.title()}\")\n",
    "    print(f\"  Phone: {info['phone']}\")\n",
    "    print(f\"  Email: {info['email']}\")\n",
    "    print(f\"  Age: {info['age']} years old\")\n",
    "\n",
    "# Add a new contact\n",
    "new_contact = input(\"\\nEnter name for new contact: \").lower()\n",
    "phone = input(\"Enter phone number: \")\n",
    "email = input(\"Enter email: \")\n",
    "age = int(input(\"Enter age: \"))\n",
    "\n",
    "contacts[new_contact] = {\n",
    "    \"phone\": phone,\n",
    "    \"email\": email, \n",
    "    \"age\": age\n",
    "}\n",
    "\n",
    "print(f\"\\nAdded {new_contact.title()} to contacts!\")\n",
    "print(f\"Total contacts: {len(contacts)}\")\n"
   ]
  },
  {
   "cell_type": "markdown",
   "id": "7c8b3f18",
   "metadata": {},
   "source": [
    "\n",
    "#### OPTIONAL: Data Validation Example\n",
    "\n"
   ]
  },
  {
   "cell_type": "code",
   "execution_count": null,
   "id": "b121f55f",
   "metadata": {},
   "outputs": [],
   "source": [
    "# Function to validate and clean user input\n",
    "def get_valid_age():\n",
    "    \"\"\"Get a valid age from user input\"\"\"\n",
    "    while True:\n",
    "        age_input = input(\"Enter age (18-120): \")\n",
    "        \n",
    "        # Check if it's a number\n",
    "        if not age_input.isdigit():\n",
    "            print(\"Please enter a valid number.\")\n",
    "            continue\n",
    "        \n",
    "        age = int(age_input)\n",
    "        \n",
    "        # Check if it's in valid range\n",
    "        if age < 18 or age > 120:\n",
    "            print(\"Age must be between 18 and 120.\")\n",
    "            continue\n",
    "        \n",
    "        return age\n",
    "\n",
    "def get_valid_email():\n",
    "    \"\"\"Get a valid email from user input\"\"\"\n",
    "    while True:\n",
    "        email = input(\"Enter email address: \")\n",
    "        \n",
    "        # Basic email validation\n",
    "        if \"@\" in email and \".\" in email:\n",
    "            return email\n",
    "        else:\n",
    "            print(\"Please enter a valid email address.\")\n",
    "\n",
    "# Example usage (commented out to avoid input prompts)\n",
    "# print(\"Creating a new user profile:\")\n",
    "# name = input(\"Enter your name: \")\n",
    "# age = get_valid_age()\n",
    "# email = get_valid_email()\n",
    "\n",
    "# user_profile = {\n",
    "#     \"name\": name,\n",
    "#     \"age\": age,\n",
    "#     \"email\": email,\n",
    "#     \"created\": \"today\"\n",
    "# }\n",
    "\n",
    "# print(f\"Profile created: {user_profile}\")\n"
   ]
  },
  {
   "cell_type": "markdown",
   "id": "f5f8b87b",
   "metadata": {},
   "source": [
    "\n",
    "#### Common Patterns and Best Practices\n",
    "\n"
   ]
  },
  {
   "cell_type": "code",
   "execution_count": null,
   "id": "435d4424",
   "metadata": {},
   "outputs": [],
   "source": [
    "# 1. Use meaningful variable names\n",
    "student_count = 25              # Good\n",
    "sc = 25                        # Bad\n",
    "\n",
    "# 2. Use constants for values that don't change\n",
    "MAX_STUDENTS = 30\n",
    "MIN_AGE = 18\n",
    "DEFAULT_GRADE = \"A\"\n",
    "\n",
    "# 3. Group related data in dictionaries or tuples\n",
    "# Good: grouped data\n",
    "person = {\n",
    "    \"name\": \"John\",\n",
    "    \"age\": 25,\n",
    "    \"city\": \"New York\"\n",
    "}\n",
    "\n",
    "# Less good: separate variables\n",
    "person_name = \"John\"\n",
    "person_age = 25\n",
    "person_city = \"New York\"\n",
    "\n",
    "# 4. Use appropriate data types\n",
    "prices = [19.99, 29.99, 39.99]    # List for multiple values\n",
    "coordinates = (10, 20)             # Tuple for fixed pairs\n",
    "settings = {\"theme\": \"dark\"}       # Dictionary for key-value config\n",
    "\n",
    "print(\"Best practices example:\")\n",
    "print(f\"Max students allowed: {MAX_STUDENTS}\")\n",
    "print(f\"Person info: {person}\")\n",
    "print(f\"First price: ${prices[0]}\")\n"
   ]
  },
  {
   "cell_type": "markdown",
   "id": "4c5b32df",
   "metadata": {},
   "source": [
    "\n",
    "#### OPTIONAL: Memory Usage and Performance\n",
    "\n"
   ]
  },
  {
   "cell_type": "code",
   "execution_count": null,
   "id": "1702d149",
   "metadata": {},
   "outputs": [],
   "source": [
    "import sys\n",
    "\n",
    "# Compare memory usage of different data types\n",
    "data_samples = [\n",
    "    (\"integer\", 42),\n",
    "    (\"float\", 3.14),\n",
    "    (\"string\", \"hello\"),\n",
    "    (\"list\", [1, 2, 3, 4, 5]),\n",
    "    (\"tuple\", (1, 2, 3, 4, 5)),\n",
    "    (\"dict\", {\"a\": 1, \"b\": 2, \"c\": 3}),\n",
    "]\n",
    "\n",
    "print(\"Memory usage comparison:\")\n",
    "for name, value in data_samples:\n",
    "    size = sys.getsizeof(value)\n",
    "    print(f\"{name:8s}: {size:3d} bytes - {repr(value)}\")\n",
    "\n",
    "# Performance comparison: list vs tuple\n",
    "import time\n",
    "\n",
    "# Time list creation\n",
    "start = time.time()\n",
    "for _ in range(100000):\n",
    "    data = [1, 2, 3, 4, 5]\n",
    "list_time = time.time() - start\n",
    "\n",
    "# Time tuple creation  \n",
    "start = time.time()\n",
    "for _ in range(100000):\n",
    "    data = (1, 2, 3, 4, 5)\n",
    "tuple_time = time.time() - start\n",
    "\n",
    "print(f\"\\nPerformance comparison (100,000 creations):\")\n",
    "print(f\"List creation:  {list_time:.4f} seconds\")\n",
    "print(f\"Tuple creation: {tuple_time:.4f} seconds\")\n",
    "print(f\"Tuples are {list_time/tuple_time:.1f}x faster to create\")\n"
   ]
  },
  {
   "cell_type": "markdown",
   "id": "7fb1830f",
   "metadata": {},
   "source": [
    "\n",
    "---\n",
    "\n",
    "## Summary\n",
    "\n",
    "You've learned the fundamental building blocks of Python:\n",
    "\n",
    "**Basic Data Types:**\n",
    "- **Integers**: Whole numbers (`42`, `-5`)\n",
    "- **Floats**: Decimal numbers (`3.14`, `19.99`)\n",
    "- **Strings**: Text data (`\"Hello\"`, `'Python'`)\n",
    "- **Booleans**: True/False values (`True`, `False`)\n",
    "\n",
    "**Collections:**\n",
    "- **Lists**: Ordered, changeable collections (`[1, 2, 3]`)\n",
    "- **Tuples**: Ordered, unchangeable collections (`(1, 2, 3)`)\n",
    "- **Dictionaries**: Key-value pairs (`{\"name\": \"Alice\"}`)\n",
    "\n",
    "**Key Concepts:**\n",
    "- Variables are labels that point to objects in memory\n",
    "- Python automatically determines data types\n",
    "- Use `type()` to check what type a variable is\n",
    "- Convert between types using `int()`, `float()`, `str()`, `bool()`\n",
    "- Choose the right data structure for your needs\n",
    "\n",
    "**Best Practices:**\n",
    "- Use descriptive variable names (`student_count` not `sc`)\n",
    "- Use constants for unchanging values (`MAX_SIZE = 100`)\n",
    "- Group related data in dictionaries or tuples\n",
    "- Validate user input when needed\n",
    "\n",
    "These fundamentals form the foundation for everything else you'll learn in Python!"
   ]
  }
 ],
 "metadata": {},
 "nbformat": 4,
 "nbformat_minor": 5
}
